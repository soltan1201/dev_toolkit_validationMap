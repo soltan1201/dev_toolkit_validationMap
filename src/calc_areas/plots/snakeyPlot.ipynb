{
 "cells": [
  {
   "cell_type": "code",
   "execution_count": 1,
   "id": "c636ff48-0bb3-4acb-bcc0-40958f82e8ca",
   "metadata": {},
   "outputs": [],
   "source": [
    "import pandas as pd\n",
    "import glob\n",
    "import plotly.graph_objects as go"
   ]
  },
  {
   "cell_type": "code",
   "execution_count": 2,
   "id": "21aee76b-8927-4a9e-9ad9-8a419a227d2b",
   "metadata": {},
   "outputs": [],
   "source": [
    "#!pip install plotly\n"
   ]
  },
  {
   "cell_type": "code",
   "execution_count": 7,
   "id": "e4684fa8-05ba-485e-b521-82889eb51e15",
   "metadata": {},
   "outputs": [],
   "source": [
    "lst_path = [\n",
    "    'sankey_1986_71e8.csv',\n",
    "    'sankey_2015_71e8.csv',\n",
    "    'sankey_2021_71e8.csv',\n",
    "]"
   ]
  },
  {
   "cell_type": "code",
   "execution_count": 9,
   "id": "4d2f567a-4e4e-4328-a33d-6f6dc6fde737",
   "metadata": {},
   "outputs": [
    {
     "name": "stdout",
     "output_type": "stream",
     "text": [
      "columnas dfTable Index(['area', 'class', 'col7', 'col8'], dtype='object')\n",
      "            area  class  col7  col8\n",
      "0   6.158647e+05    304     3     4\n",
      "1   1.712423e+04    312     3    12\n",
      "2   2.945160e+05    321     3    21\n",
      "3   3.693774e+03    322     3    22\n",
      "4   1.961295e+01    330     3    30\n",
      "5   6.352904e+03    333     3    33\n",
      "6   8.238034e+05    403     4     3\n",
      "7   1.038377e+06    412     4    12\n",
      "8   5.027709e+06    421     4    21\n",
      "9   2.406493e+04    422     4    22\n",
      "10  1.456318e+02    430     4    30\n",
      "11  4.193688e+04    433     4    33\n",
      "12  3.526896e+04   1203    12     3\n",
      "13  9.536240e+05   1204    12     4\n",
      "14  1.197229e+06   1221    12    21\n",
      "15  6.912543e+04   1222    12    22\n",
      "16  1.060309e+01   1230    12    30\n",
      "17  5.827923e+03   1233    12    33\n",
      "18  6.135613e+04   2103    21     3\n",
      "19  1.495564e+06   2104    21     4\n",
      "20  3.311595e+05   2112    21    12\n",
      "21  1.753443e+05   2122    21    22\n",
      "22  1.140887e+02   2130    21    30\n",
      "23  3.711830e+04   2133    21    33\n",
      "24  5.248521e+03   2203    22     3\n",
      "25  2.086970e+04   2204    22     4\n",
      "26  5.415219e+04   2212    22    12\n",
      "27  5.838196e+05   2221    22    21\n",
      "28  1.116676e+02   2230    22    30\n",
      "29  2.888420e+04   2233    22    33\n",
      "30  8.618915e+00   3003    30     3\n",
      "31  3.123916e+01   3004    30     4\n",
      "32  1.299569e+01   3012    30    12\n",
      "33  3.464664e+01   3021    30    21\n",
      "34  4.230103e+00   3022    30    22\n",
      "35  9.121358e+03   3030    30    30\n",
      "36  7.074758e-01   3033    30    33\n",
      "37  8.289915e+02   3303    33     3\n",
      "38  1.678728e+03   3304    33     4\n",
      "39  7.509573e+02   3312    33    12\n",
      "40  3.143787e+03   3321    33    21\n",
      "41  3.319099e+02   3322    33    22\n",
      "42  2.667965e+00   3330    33    30\n",
      "43  7.614994e+05   3333    33    33\n"
     ]
    }
   ],
   "source": [
    "dfTable = pd.read_csv(lst_path[2])\n",
    "dfTable = dfTable.drop(['system:index','.geo','territory'], axis=1)\n",
    "print(\"columnas dfTable\" , dfTable.columns)\n",
    "print(dfTable)\n"
   ]
  },
  {
   "cell_type": "code",
   "execution_count": 10,
   "id": "24767a0b-28ca-4316-8852-838ba6e4624e",
   "metadata": {},
   "outputs": [
    {
     "data": {
      "text/html": [
       "<div>\n",
       "<style scoped>\n",
       "    .dataframe tbody tr th:only-of-type {\n",
       "        vertical-align: middle;\n",
       "    }\n",
       "\n",
       "    .dataframe tbody tr th {\n",
       "        vertical-align: top;\n",
       "    }\n",
       "\n",
       "    .dataframe thead th {\n",
       "        text-align: right;\n",
       "    }\n",
       "</style>\n",
       "<table border=\"1\" class=\"dataframe\">\n",
       "  <thead>\n",
       "    <tr style=\"text-align: right;\">\n",
       "      <th></th>\n",
       "      <th>source</th>\n",
       "      <th>target</th>\n",
       "      <th>value</th>\n",
       "    </tr>\n",
       "  </thead>\n",
       "  <tbody>\n",
       "    <tr>\n",
       "      <th>0</th>\n",
       "      <td>3</td>\n",
       "      <td>4</td>\n",
       "      <td>615864.684152</td>\n",
       "    </tr>\n",
       "    <tr>\n",
       "      <th>1</th>\n",
       "      <td>3</td>\n",
       "      <td>12</td>\n",
       "      <td>17124.232769</td>\n",
       "    </tr>\n",
       "    <tr>\n",
       "      <th>2</th>\n",
       "      <td>3</td>\n",
       "      <td>21</td>\n",
       "      <td>294515.991835</td>\n",
       "    </tr>\n",
       "    <tr>\n",
       "      <th>3</th>\n",
       "      <td>3</td>\n",
       "      <td>22</td>\n",
       "      <td>3693.773796</td>\n",
       "    </tr>\n",
       "    <tr>\n",
       "      <th>4</th>\n",
       "      <td>3</td>\n",
       "      <td>30</td>\n",
       "      <td>19.612951</td>\n",
       "    </tr>\n",
       "  </tbody>\n",
       "</table>\n",
       "</div>"
      ],
      "text/plain": [
       "   source  target          value\n",
       "0       3       4  615864.684152\n",
       "1       3      12   17124.232769\n",
       "2       3      21  294515.991835\n",
       "3       3      22    3693.773796\n",
       "4       3      30      19.612951"
      ]
     },
     "execution_count": 10,
     "metadata": {},
     "output_type": "execute_result"
    }
   ],
   "source": [
    "dfGroup = dfTable.groupby(['col7', 'col8'])['area'].sum().reset_index()\n",
    "dfGroup.columns = ['source', 'target', 'value']\n",
    "dfGroup.head()"
   ]
  },
  {
   "cell_type": "code",
   "execution_count": 13,
   "id": "02a001eb-27ca-41b6-875c-ea4c532f1ead",
   "metadata": {},
   "outputs": [
    {
     "data": {
      "text/plain": [
       "[3, 4, 12, 21, 22, 30, 33]"
      ]
     },
     "execution_count": 13,
     "metadata": {},
     "output_type": "execute_result"
    }
   ],
   "source": [
    "unique_source = list(pd.unique(dfGroup['source'].values.ravel(\"K\")))\n",
    "unique_source"
   ]
  },
  {
   "cell_type": "code",
   "execution_count": 14,
   "id": "f9c57fe9-5577-4504-a7a9-07f62c633d4c",
   "metadata": {},
   "outputs": [
    {
     "data": {
      "text/plain": [
       "{3: 0, 4: 1, 12: 2, 21: 3, 22: 4, 30: 5, 33: 6}"
      ]
     },
     "execution_count": 14,
     "metadata": {},
     "output_type": "execute_result"
    }
   ],
   "source": [
    "map_dict = {kk: vv for vv, kk in enumerate(unique_source)}\n",
    "map_dict"
   ]
  },
  {
   "cell_type": "code",
   "execution_count": 15,
   "id": "a09a8c39-c139-473f-badc-29d049509d3f",
   "metadata": {},
   "outputs": [],
   "source": [
    "dfGroup[\"source\"] = dfGroup[\"source\"].map(map_dict)\n",
    "dfGroup[\"target\"] = dfGroup[\"target\"].map(map_dict)"
   ]
  },
  {
   "cell_type": "code",
   "execution_count": 20,
   "id": "18919aef-430b-4365-938f-54884ab71403",
   "metadata": {},
   "outputs": [],
   "source": [
    "#dfGroup"
   ]
  },
  {
   "cell_type": "code",
   "execution_count": 21,
   "id": "8297228e-e7c4-4b9d-ab9a-cdf86446f301",
   "metadata": {},
   "outputs": [],
   "source": [
    "links_dict = dfGroup.to_dict(orient= \"list\")\n",
    "#links_dict"
   ]
  },
  {
   "cell_type": "code",
   "execution_count": 35,
   "id": "21e0eb42-ac97-4f55-98a7-778bc2064b26",
   "metadata": {},
   "outputs": [
    {
     "data": {
      "text/plain": [
       "[0, 0, 0, 0, 0]"
      ]
     },
     "execution_count": 35,
     "metadata": {},
     "output_type": "execute_result"
    }
   ],
   "source": [
    "links_dict['source'][:5]"
   ]
  },
  {
   "cell_type": "code",
   "execution_count": 18,
   "id": "71d596b9-3ece-409b-94bc-fcbe7136e557",
   "metadata": {},
   "outputs": [
    {
     "data": {
      "text/plain": [
       "dict_keys(['source', 'target', 'value'])"
      ]
     },
     "execution_count": 18,
     "metadata": {},
     "output_type": "execute_result"
    }
   ],
   "source": [
    "links_dict.keys()"
   ]
  },
  {
   "cell_type": "code",
   "execution_count": 33,
   "id": "a94d4bb5-bd32-4ae3-b91a-ab655a9b13bf",
   "metadata": {},
   "outputs": [],
   "source": [
    "dict_cc_N2 = {\n",
    "    '0': 'Não observado',\n",
    "    '3': 'Formação Florestal',\n",
    "    '4': 'Formação Savânica',\n",
    "    '9': 'Silvicultura',\n",
    "    '12': 'Formação Campestre',\n",
    "    '15': 'Pastagem',\n",
    "    '18': 'Agricultura',\n",
    "    '21': 'Mosaicos de usos',\n",
    "    '22': 'Outras áreas não Vegetadas',\n",
    "    '24': 'Área Urbanizada',\n",
    "    '29': \"Afloramento Rochoso\",\n",
    "    '33': 'Água'\n",
    "}\n",
    "#{3: 0, 4: 1, 12: 2, 21: 3, 22: 4, 30: 5, 33: 6}\n",
    "dict_REcc_N2 = {\n",
    "    '0': 'Não observado',\n",
    "    '3': 'Formação Florestal',\n",
    "    '4': 'Formação Savânica',\n",
    "    '9': 'Silvicultura',\n",
    "    '12': 'Formação Campestre',\n",
    "    '15': 'Pastagem',\n",
    "    '18': 'Agricultura',\n",
    "    '21': 'Mosaicos de usos',\n",
    "    '22': 'Outras áreas não Vegetadas',\n",
    "    '24': 'Área Urbanizada',\n",
    "    '29': \"Afloramento Rochoso\",\n",
    "    '33': 'Água'\n",
    "}"
   ]
  },
  {
   "cell_type": "code",
   "execution_count": 34,
   "id": "3b6af80a-f257-41fd-9ac6-54e20ea368ec",
   "metadata": {},
   "outputs": [
    {
     "name": "stdout",
     "output_type": "stream",
     "text": [
      "valores  0\n",
      "valores  0\n",
      "valores  0\n",
      "valores  0\n",
      "valores  0\n",
      "valores  0\n",
      "valores  1\n"
     ]
    },
    {
     "ename": "KeyError",
     "evalue": "'1'",
     "output_type": "error",
     "traceback": [
      "\u001b[0;31m---------------------------------------------------------------------------\u001b[0m",
      "\u001b[0;31mKeyError\u001b[0m                                  Traceback (most recent call last)",
      "Cell \u001b[0;32mIn[34], line 6\u001b[0m\n\u001b[1;32m      4\u001b[0m         \u001b[38;5;28;01mfor\u001b[39;00m val \u001b[38;5;129;01min\u001b[39;00m valores:\n\u001b[1;32m      5\u001b[0m             \u001b[38;5;28mprint\u001b[39m(\u001b[38;5;124m\"\u001b[39m\u001b[38;5;124mvalores \u001b[39m\u001b[38;5;124m\"\u001b[39m, val)\n\u001b[0;32m----> 6\u001b[0m             lstName\u001b[38;5;241m.\u001b[39mappend(\u001b[43mdict_cc_N2\u001b[49m\u001b[43m[\u001b[49m\u001b[38;5;28;43mstr\u001b[39;49m\u001b[43m(\u001b[49m\u001b[43mval\u001b[49m\u001b[43m)\u001b[49m\u001b[43m]\u001b[49m)\n\u001b[1;32m      8\u001b[0m links_dict[\u001b[38;5;124m\"\u001b[39m\u001b[38;5;124mlabel\u001b[39m\u001b[38;5;124m\"\u001b[39m] \u001b[38;5;241m=\u001b[39m lstName\n",
      "\u001b[0;31mKeyError\u001b[0m: '1'"
     ]
    }
   ],
   "source": [
    "lstName = []\n",
    "for kk, valores in links_dict.items():\n",
    "    if kk == \"source\":        \n",
    "        for val in valores:\n",
    "            print(\"valores \", val)\n",
    "            lstName.append(dict_cc_N2[str(val)])\n",
    "\n",
    "links_dict[\"label\"] = lstName\n",
    "              "
   ]
  },
  {
   "cell_type": "code",
   "execution_count": 28,
   "id": "7ed84dbb-5d5a-4c10-a183-d94984c15434",
   "metadata": {},
   "outputs": [
    {
     "ename": "KeyError",
     "evalue": "'label'",
     "output_type": "error",
     "traceback": [
      "\u001b[0;31m---------------------------------------------------------------------------\u001b[0m",
      "\u001b[0;31mKeyError\u001b[0m                                  Traceback (most recent call last)",
      "Cell \u001b[0;32mIn[28], line 15\u001b[0m\n\u001b[1;32m      1\u001b[0m fig \u001b[38;5;241m=\u001b[39m go\u001b[38;5;241m.\u001b[39mFigure(\n\u001b[1;32m      2\u001b[0m         data\u001b[38;5;241m=\u001b[39m[\n\u001b[1;32m      3\u001b[0m             go\u001b[38;5;241m.\u001b[39mSankey(\n\u001b[1;32m      4\u001b[0m                 node\u001b[38;5;241m=\u001b[39m \u001b[38;5;28mdict\u001b[39m(\n\u001b[1;32m      5\u001b[0m                     pad\u001b[38;5;241m=\u001b[39m \u001b[38;5;241m10\u001b[39m,\n\u001b[1;32m      6\u001b[0m                     thickness \u001b[38;5;241m=\u001b[39m \u001b[38;5;241m20\u001b[39m,\n\u001b[1;32m      7\u001b[0m                     line\u001b[38;5;241m=\u001b[39m \u001b[38;5;28mdict\u001b[39m(color\u001b[38;5;241m=\u001b[39m \u001b[38;5;124m'\u001b[39m\u001b[38;5;124mblack\u001b[39m\u001b[38;5;124m'\u001b[39m, width\u001b[38;5;241m=\u001b[39m \u001b[38;5;241m3\u001b[39m),\n\u001b[1;32m      8\u001b[0m                     label\u001b[38;5;241m=\u001b[39m unique_source,\n\u001b[1;32m      9\u001b[0m                     color\u001b[38;5;241m=\u001b[39m \u001b[38;5;124m\"\u001b[39m\u001b[38;5;124mblue\u001b[39m\u001b[38;5;124m\"\u001b[39m\n\u001b[1;32m     10\u001b[0m                 ),\n\u001b[1;32m     11\u001b[0m                 link \u001b[38;5;241m=\u001b[39m \u001b[38;5;28mdict\u001b[39m(\n\u001b[1;32m     12\u001b[0m                     source\u001b[38;5;241m=\u001b[39m links_dict[\u001b[38;5;124m\"\u001b[39m\u001b[38;5;124msource\u001b[39m\u001b[38;5;124m\"\u001b[39m],\n\u001b[1;32m     13\u001b[0m                     target\u001b[38;5;241m=\u001b[39m links_dict[\u001b[38;5;124m\"\u001b[39m\u001b[38;5;124mtarget\u001b[39m\u001b[38;5;124m\"\u001b[39m],\n\u001b[1;32m     14\u001b[0m                     value\u001b[38;5;241m=\u001b[39m links_dict[\u001b[38;5;124m\"\u001b[39m\u001b[38;5;124mvalue\u001b[39m\u001b[38;5;124m\"\u001b[39m],\n\u001b[0;32m---> 15\u001b[0m                     label \u001b[38;5;241m=\u001b[39m  \u001b[43mlinks_dict\u001b[49m\u001b[43m[\u001b[49m\u001b[38;5;124;43m\"\u001b[39;49m\u001b[38;5;124;43mlabel\u001b[39;49m\u001b[38;5;124;43m\"\u001b[39;49m\u001b[43m]\u001b[49m,\n\u001b[1;32m     16\u001b[0m                 )\n\u001b[1;32m     17\u001b[0m             )\n\u001b[1;32m     18\u001b[0m         ]\n\u001b[1;32m     19\u001b[0m )\n\u001b[1;32m     20\u001b[0m fig\u001b[38;5;241m.\u001b[39mupdate_layout(\n\u001b[1;32m     21\u001b[0m     title_text \u001b[38;5;241m=\u001b[39m \u001b[38;5;124m'\u001b[39m\u001b[38;5;124mSankey col 7 e 8 \u001b[39m\u001b[38;5;124m'\u001b[39m,\n\u001b[1;32m     22\u001b[0m     width\u001b[38;5;241m=\u001b[39m \u001b[38;5;241m800\u001b[39m\n\u001b[1;32m     23\u001b[0m )\n\u001b[1;32m     24\u001b[0m fig\u001b[38;5;241m.\u001b[39mshow()\n",
      "\u001b[0;31mKeyError\u001b[0m: 'label'"
     ]
    }
   ],
   "source": [
    "fig = go.Figure(\n",
    "        data=[\n",
    "            go.Sankey(\n",
    "                node= dict(\n",
    "                    pad= 10,\n",
    "                    thickness = 20,\n",
    "                    line= dict(color= 'black', width= 3),\n",
    "                    label= unique_source,\n",
    "                    color= \"blue\"\n",
    "                ),\n",
    "                link = dict(\n",
    "                    source= links_dict[\"source\"],\n",
    "                    target= links_dict[\"target\"],\n",
    "                    value= links_dict[\"value\"],\n",
    "                    label =  links_dict[\"label\"],\n",
    "                )\n",
    "            )\n",
    "        ]\n",
    ")\n",
    "fig.update_layout(\n",
    "    title_text = 'Sankey col 7 e 8 ',\n",
    "    width= 800\n",
    ")\n",
    "fig.show()"
   ]
  },
  {
   "cell_type": "code",
   "execution_count": null,
   "id": "72a42067-c437-4816-8486-752fadb90a44",
   "metadata": {},
   "outputs": [],
   "source": []
  }
 ],
 "metadata": {
  "kernelspec": {
   "display_name": "Python 3 (ipykernel)",
   "language": "python",
   "name": "python3"
  },
  "language_info": {
   "codemirror_mode": {
    "name": "ipython",
    "version": 3
   },
   "file_extension": ".py",
   "mimetype": "text/x-python",
   "name": "python",
   "nbconvert_exporter": "python",
   "pygments_lexer": "ipython3",
   "version": "3.11.6"
  }
 },
 "nbformat": 4,
 "nbformat_minor": 5
}
