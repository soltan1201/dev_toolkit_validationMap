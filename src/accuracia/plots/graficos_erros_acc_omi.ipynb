{
 "cells": [
  {
   "cell_type": "code",
   "execution_count": 2,
   "id": "f576a0e0-afda-4649-8a3c-58959350d797",
   "metadata": {},
   "outputs": [],
   "source": [
    "import pandas as pd \n",
    "import glob\n",
    "import matplotlib.pyplot as plt\n",
    "import os \n",
    "import plotly.express as px"
   ]
  },
  {
   "cell_type": "code",
   "execution_count": 14,
   "id": "94bd5eae-b25b-49b8-900d-c346148e16f5",
   "metadata": {},
   "outputs": [
    {
     "name": "stdout",
     "output_type": "stream",
     "text": [
      "path  others/mapbiomas_accuracy_col8_v4_info.csv\n"
     ]
    }
   ],
   "source": [
    "npath = 'others/mapbiomas_accuracy_col8_v4_info.csv'\n",
    "print(\"path \", npath)\n",
    "bioma = 'Caatinga'\n",
    "nivel = 'l3'"
   ]
  },
  {
   "cell_type": "code",
   "execution_count": 13,
   "id": "0fb7aaeb-6dcb-4931-bf49-d438c022a54d",
   "metadata": {},
   "outputs": [
    {
     "name": "stdout",
     "output_type": "stream",
     "text": [
      "Processando o Bioma  Caatinga\n",
      "columnas dfComp Index(['Classe', 'Region', 'Level', 'Year', 'Pop_Prop', 'Pop_Bias',\n",
      "       'Pop_Bias_SE', 'Global_Acc', 'Allocation_Tot', 'Quantity_Tot',\n",
      "       'Producer_Acc', 'Producer_stdErr', 'User_Acc', 'User_stdErr'],\n",
      "      dtype='object')\n",
      "shape of table  (989, 14)\n",
      "                               Classe    Region Level  Year  Pop_Prop  \\\n",
      "4924          1.1. Formação Florestal  Caatinga    l3  1985  0.060391   \n",
      "4925           1.2. Formação Savânica  Caatinga    l3  1985  0.633815   \n",
      "4926  2.2. Formação Campestre (Campo)  Caatinga    l3  1985  0.034996   \n",
      "4927                    3.1. Pastagem  Caatinga    l3  1985  0.143619   \n",
      "4928        3.2.1. Lavoura Temporária  Caatinga    l3  1985  0.000291   \n",
      "\n",
      "      Pop_Bias  Pop_Bias_SE  Global_Acc  Allocation_Tot  Quantity_Tot  \\\n",
      "4924 -0.018160     0.006780         0.0        0.065825      0.018160   \n",
      "4925  0.078645     0.011451         0.0        0.152756      0.078645   \n",
      "4926 -0.019816     0.005772         0.0        0.023839      0.019816   \n",
      "4927  0.022902     0.007637         0.0        0.052251      0.022902   \n",
      "4928 -0.000208     0.000956         0.0        0.000166      0.000208   \n",
      "\n",
      "      Producer_Acc  Producer_stdErr  User_Acc  User_stdErr  \n",
      "4924      0.220650         0.013813  0.154299     0.009525  \n",
      "4925      0.782412         0.010160  0.879494     0.012328  \n",
      "4926      0.214816         0.021325  0.093179     0.008778  \n",
      "4927      0.705579         0.022205  0.818091     0.026392  \n",
      "4928      0.000000         0.000000  0.000000     0.000000  \n"
     ]
    }
   ],
   "source": [
    "dfComp = pd.read_csv(npath)\n",
    "if bioma != 'BRASIL':\n",
    "    print('Processando o Bioma ', bioma)\n",
    "    dfComp = dfComp[dfComp[\"Region\"] == bioma]\n",
    "    # dfCompIBGE = dfCompIBGE.drop(['system:index','.geo', 'territory'], axis=1)\n",
    "else:\n",
    "    print(\"serão processadas os biomas \", dfComp[\"Region\"].unique())\n",
    "    print(\"=== selecinonaremos BRASIL=====\")\n",
    "    dfComp = dfComp[dfComp[\"Region\"] == bioma]\n",
    "print(\"columnas dfComp\" , dfComp.columns)\n",
    "print(\"shape of table \", dfComp.shape)\n",
    "print(dfComp.head())"
   ]
  },
  {
   "cell_type": "code",
   "execution_count": 15,
   "id": "5bcd027a-533d-4f31-92a4-309099d76e3c",
   "metadata": {},
   "outputs": [
    {
     "name": "stdout",
     "output_type": "stream",
     "text": [
      "shape of table  (397, 14)\n"
     ]
    }
   ],
   "source": [
    "dfComp = dfComp[dfComp[\"Level\"] == nivel]\n",
    "print(\"shape of table \", dfComp.shape)"
   ]
  },
  {
   "cell_type": "code",
   "execution_count": 16,
   "id": "e3626976-4575-48a8-8351-d4ec4762578a",
   "metadata": {},
   "outputs": [
    {
     "data": {
      "text/html": [
       "<div>\n",
       "<style scoped>\n",
       "    .dataframe tbody tr th:only-of-type {\n",
       "        vertical-align: middle;\n",
       "    }\n",
       "\n",
       "    .dataframe tbody tr th {\n",
       "        vertical-align: top;\n",
       "    }\n",
       "\n",
       "    .dataframe thead th {\n",
       "        text-align: right;\n",
       "    }\n",
       "</style>\n",
       "<table border=\"1\" class=\"dataframe\">\n",
       "  <thead>\n",
       "    <tr style=\"text-align: right;\">\n",
       "      <th></th>\n",
       "      <th>Classe</th>\n",
       "      <th>Region</th>\n",
       "      <th>Level</th>\n",
       "      <th>Year</th>\n",
       "      <th>Pop_Prop</th>\n",
       "      <th>Pop_Bias</th>\n",
       "      <th>Pop_Bias_SE</th>\n",
       "      <th>Global_Acc</th>\n",
       "      <th>Allocation_Tot</th>\n",
       "      <th>Quantity_Tot</th>\n",
       "      <th>Producer_Acc</th>\n",
       "      <th>Producer_stdErr</th>\n",
       "      <th>User_Acc</th>\n",
       "      <th>User_stdErr</th>\n",
       "    </tr>\n",
       "  </thead>\n",
       "  <tbody>\n",
       "    <tr>\n",
       "      <th>4924</th>\n",
       "      <td>1.1. Formação Florestal</td>\n",
       "      <td>Caatinga</td>\n",
       "      <td>l3</td>\n",
       "      <td>1985</td>\n",
       "      <td>0.060391</td>\n",
       "      <td>-0.018160</td>\n",
       "      <td>0.006780</td>\n",
       "      <td>0.0</td>\n",
       "      <td>0.065825</td>\n",
       "      <td>0.018160</td>\n",
       "      <td>0.220650</td>\n",
       "      <td>0.013813</td>\n",
       "      <td>0.154299</td>\n",
       "      <td>0.009525</td>\n",
       "    </tr>\n",
       "    <tr>\n",
       "      <th>4925</th>\n",
       "      <td>1.2. Formação Savânica</td>\n",
       "      <td>Caatinga</td>\n",
       "      <td>l3</td>\n",
       "      <td>1985</td>\n",
       "      <td>0.633815</td>\n",
       "      <td>0.078645</td>\n",
       "      <td>0.011451</td>\n",
       "      <td>0.0</td>\n",
       "      <td>0.152756</td>\n",
       "      <td>0.078645</td>\n",
       "      <td>0.782412</td>\n",
       "      <td>0.010160</td>\n",
       "      <td>0.879494</td>\n",
       "      <td>0.012328</td>\n",
       "    </tr>\n",
       "    <tr>\n",
       "      <th>4926</th>\n",
       "      <td>2.2. Formação Campestre (Campo)</td>\n",
       "      <td>Caatinga</td>\n",
       "      <td>l3</td>\n",
       "      <td>1985</td>\n",
       "      <td>0.034996</td>\n",
       "      <td>-0.019816</td>\n",
       "      <td>0.005772</td>\n",
       "      <td>0.0</td>\n",
       "      <td>0.023839</td>\n",
       "      <td>0.019816</td>\n",
       "      <td>0.214816</td>\n",
       "      <td>0.021325</td>\n",
       "      <td>0.093179</td>\n",
       "      <td>0.008778</td>\n",
       "    </tr>\n",
       "  </tbody>\n",
       "</table>\n",
       "</div>"
      ],
      "text/plain": [
       "                               Classe    Region Level  Year  Pop_Prop  \\\n",
       "4924          1.1. Formação Florestal  Caatinga    l3  1985  0.060391   \n",
       "4925           1.2. Formação Savânica  Caatinga    l3  1985  0.633815   \n",
       "4926  2.2. Formação Campestre (Campo)  Caatinga    l3  1985  0.034996   \n",
       "\n",
       "      Pop_Bias  Pop_Bias_SE  Global_Acc  Allocation_Tot  Quantity_Tot  \\\n",
       "4924 -0.018160     0.006780         0.0        0.065825      0.018160   \n",
       "4925  0.078645     0.011451         0.0        0.152756      0.078645   \n",
       "4926 -0.019816     0.005772         0.0        0.023839      0.019816   \n",
       "\n",
       "      Producer_Acc  Producer_stdErr  User_Acc  User_stdErr  \n",
       "4924      0.220650         0.013813  0.154299     0.009525  \n",
       "4925      0.782412         0.010160  0.879494     0.012328  \n",
       "4926      0.214816         0.021325  0.093179     0.008778  "
      ]
     },
     "execution_count": 16,
     "metadata": {},
     "output_type": "execute_result"
    }
   ],
   "source": [
    "dfComp.head(3)"
   ]
  },
  {
   "cell_type": "code",
   "execution_count": null,
   "id": "4017fd95-e9a5-40d7-b163-f88051095ec6",
   "metadata": {},
   "outputs": [],
   "source": [
    "dfComp"
   ]
  }
 ],
 "metadata": {
  "kernelspec": {
   "display_name": "Python 3 (ipykernel)",
   "language": "python",
   "name": "python3"
  },
  "language_info": {
   "codemirror_mode": {
    "name": "ipython",
    "version": 3
   },
   "file_extension": ".py",
   "mimetype": "text/x-python",
   "name": "python",
   "nbconvert_exporter": "python",
   "pygments_lexer": "ipython3",
   "version": "3.11.6"
  }
 },
 "nbformat": 4,
 "nbformat_minor": 5
}
